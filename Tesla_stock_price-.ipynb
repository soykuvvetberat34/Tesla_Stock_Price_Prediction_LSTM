{
  "nbformat": 4,
  "nbformat_minor": 0,
  "metadata": {
    "colab": {
      "provenance": []
    },
    "kernelspec": {
      "name": "python3",
      "display_name": "Python 3"
    },
    "language_info": {
      "name": "python"
    }
  },
  "cells": [
    {
      "cell_type": "markdown",
      "source": [
        "##Tesla stock price prediction\n",
        "\n",
        "The variables in the data\n",
        "\n",
        "    Date,Open,High,Low,Close,Adj Close,Volume\n",
        "\n",
        "\n",
        "\n",
        "In this project, I use an LSTM model to perform stock price prediction, as LSTM networks are particularly effective for sequential data and time series forecasting. Specifically, to predict the closing price of Tesla stock for a given day, the model takes the previous 20 days of stock prices as input. This sliding window approach is repeated across the dataset, enabling the model to learn temporal patterns. By the end of the process, we will have generated predictions for each day in the target period.\n"
      ],
      "metadata": {
        "id": "_onx7ce4qhF9"
      }
    },
    {
      "cell_type": "code",
      "execution_count": 55,
      "metadata": {
        "id": "gYkfD0ieOQgX"
      },
      "outputs": [],
      "source": [
        "import numpy as np\n",
        "import pandas as pd\n",
        "import matplotlib.pyplot as plt\n",
        "import tensorflow as tf\n",
        "from sklearn.preprocessing import MinMaxScaler\n",
        "from sklearn.metrics import mean_squared_error\n",
        "from tensorflow.keras.models import Sequential\n",
        "from tensorflow.keras.layers import Dense,LSTM,Dropout\n",
        "from tensorflow.keras.callbacks import EarlyStopping,ModelCheckpoint\n",
        "import seaborn as sns\n",
        "\n",
        "import warnings\n",
        "warnings.filterwarnings('ignore')\n",
        "\n",
        "import os\n",
        "os.environ['TF_CPP_MIN_LOG_LEVEL'] = '3'\n",
        "tf.compat.v1.logging.set_verbosity(tf.compat.v1.logging.ERROR)\n"
      ]
    },
    {
      "cell_type": "code",
      "source": [
        "df_tesla_stocks=pd.read_csv('TSLA.csv')\n",
        "df_tesla_stocks.head()"
      ],
      "metadata": {
        "colab": {
          "base_uri": "https://localhost:8080/",
          "height": 206
        },
        "id": "3FZK1jJtsG0x",
        "outputId": "51d2e29f-3d11-4bf1-9ce6-5c530a2caa7d"
      },
      "execution_count": 56,
      "outputs": [
        {
          "output_type": "execute_result",
          "data": {
            "text/plain": [
              "         Date       Open   High        Low      Close  Adj Close    Volume\n",
              "0  2010-06-29  19.000000  25.00  17.540001  23.889999  23.889999  18766300\n",
              "1  2010-06-30  25.790001  30.42  23.299999  23.830000  23.830000  17187100\n",
              "2  2010-07-01  25.000000  25.92  20.270000  21.959999  21.959999   8218800\n",
              "3  2010-07-02  23.000000  23.10  18.709999  19.200001  19.200001   5139800\n",
              "4  2010-07-06  20.000000  20.00  15.830000  16.110001  16.110001   6866900"
            ],
            "text/html": [
              "\n",
              "  <div id=\"df-dbaef251-06a9-4062-8a53-7ae337f54ed2\" class=\"colab-df-container\">\n",
              "    <div>\n",
              "<style scoped>\n",
              "    .dataframe tbody tr th:only-of-type {\n",
              "        vertical-align: middle;\n",
              "    }\n",
              "\n",
              "    .dataframe tbody tr th {\n",
              "        vertical-align: top;\n",
              "    }\n",
              "\n",
              "    .dataframe thead th {\n",
              "        text-align: right;\n",
              "    }\n",
              "</style>\n",
              "<table border=\"1\" class=\"dataframe\">\n",
              "  <thead>\n",
              "    <tr style=\"text-align: right;\">\n",
              "      <th></th>\n",
              "      <th>Date</th>\n",
              "      <th>Open</th>\n",
              "      <th>High</th>\n",
              "      <th>Low</th>\n",
              "      <th>Close</th>\n",
              "      <th>Adj Close</th>\n",
              "      <th>Volume</th>\n",
              "    </tr>\n",
              "  </thead>\n",
              "  <tbody>\n",
              "    <tr>\n",
              "      <th>0</th>\n",
              "      <td>2010-06-29</td>\n",
              "      <td>19.000000</td>\n",
              "      <td>25.00</td>\n",
              "      <td>17.540001</td>\n",
              "      <td>23.889999</td>\n",
              "      <td>23.889999</td>\n",
              "      <td>18766300</td>\n",
              "    </tr>\n",
              "    <tr>\n",
              "      <th>1</th>\n",
              "      <td>2010-06-30</td>\n",
              "      <td>25.790001</td>\n",
              "      <td>30.42</td>\n",
              "      <td>23.299999</td>\n",
              "      <td>23.830000</td>\n",
              "      <td>23.830000</td>\n",
              "      <td>17187100</td>\n",
              "    </tr>\n",
              "    <tr>\n",
              "      <th>2</th>\n",
              "      <td>2010-07-01</td>\n",
              "      <td>25.000000</td>\n",
              "      <td>25.92</td>\n",
              "      <td>20.270000</td>\n",
              "      <td>21.959999</td>\n",
              "      <td>21.959999</td>\n",
              "      <td>8218800</td>\n",
              "    </tr>\n",
              "    <tr>\n",
              "      <th>3</th>\n",
              "      <td>2010-07-02</td>\n",
              "      <td>23.000000</td>\n",
              "      <td>23.10</td>\n",
              "      <td>18.709999</td>\n",
              "      <td>19.200001</td>\n",
              "      <td>19.200001</td>\n",
              "      <td>5139800</td>\n",
              "    </tr>\n",
              "    <tr>\n",
              "      <th>4</th>\n",
              "      <td>2010-07-06</td>\n",
              "      <td>20.000000</td>\n",
              "      <td>20.00</td>\n",
              "      <td>15.830000</td>\n",
              "      <td>16.110001</td>\n",
              "      <td>16.110001</td>\n",
              "      <td>6866900</td>\n",
              "    </tr>\n",
              "  </tbody>\n",
              "</table>\n",
              "</div>\n",
              "    <div class=\"colab-df-buttons\">\n",
              "\n",
              "  <div class=\"colab-df-container\">\n",
              "    <button class=\"colab-df-convert\" onclick=\"convertToInteractive('df-dbaef251-06a9-4062-8a53-7ae337f54ed2')\"\n",
              "            title=\"Convert this dataframe to an interactive table.\"\n",
              "            style=\"display:none;\">\n",
              "\n",
              "  <svg xmlns=\"http://www.w3.org/2000/svg\" height=\"24px\" viewBox=\"0 -960 960 960\">\n",
              "    <path d=\"M120-120v-720h720v720H120Zm60-500h600v-160H180v160Zm220 220h160v-160H400v160Zm0 220h160v-160H400v160ZM180-400h160v-160H180v160Zm440 0h160v-160H620v160ZM180-180h160v-160H180v160Zm440 0h160v-160H620v160Z\"/>\n",
              "  </svg>\n",
              "    </button>\n",
              "\n",
              "  <style>\n",
              "    .colab-df-container {\n",
              "      display:flex;\n",
              "      gap: 12px;\n",
              "    }\n",
              "\n",
              "    .colab-df-convert {\n",
              "      background-color: #E8F0FE;\n",
              "      border: none;\n",
              "      border-radius: 50%;\n",
              "      cursor: pointer;\n",
              "      display: none;\n",
              "      fill: #1967D2;\n",
              "      height: 32px;\n",
              "      padding: 0 0 0 0;\n",
              "      width: 32px;\n",
              "    }\n",
              "\n",
              "    .colab-df-convert:hover {\n",
              "      background-color: #E2EBFA;\n",
              "      box-shadow: 0px 1px 2px rgba(60, 64, 67, 0.3), 0px 1px 3px 1px rgba(60, 64, 67, 0.15);\n",
              "      fill: #174EA6;\n",
              "    }\n",
              "\n",
              "    .colab-df-buttons div {\n",
              "      margin-bottom: 4px;\n",
              "    }\n",
              "\n",
              "    [theme=dark] .colab-df-convert {\n",
              "      background-color: #3B4455;\n",
              "      fill: #D2E3FC;\n",
              "    }\n",
              "\n",
              "    [theme=dark] .colab-df-convert:hover {\n",
              "      background-color: #434B5C;\n",
              "      box-shadow: 0px 1px 3px 1px rgba(0, 0, 0, 0.15);\n",
              "      filter: drop-shadow(0px 1px 2px rgba(0, 0, 0, 0.3));\n",
              "      fill: #FFFFFF;\n",
              "    }\n",
              "  </style>\n",
              "\n",
              "    <script>\n",
              "      const buttonEl =\n",
              "        document.querySelector('#df-dbaef251-06a9-4062-8a53-7ae337f54ed2 button.colab-df-convert');\n",
              "      buttonEl.style.display =\n",
              "        google.colab.kernel.accessAllowed ? 'block' : 'none';\n",
              "\n",
              "      async function convertToInteractive(key) {\n",
              "        const element = document.querySelector('#df-dbaef251-06a9-4062-8a53-7ae337f54ed2');\n",
              "        const dataTable =\n",
              "          await google.colab.kernel.invokeFunction('convertToInteractive',\n",
              "                                                    [key], {});\n",
              "        if (!dataTable) return;\n",
              "\n",
              "        const docLinkHtml = 'Like what you see? Visit the ' +\n",
              "          '<a target=\"_blank\" href=https://colab.research.google.com/notebooks/data_table.ipynb>data table notebook</a>'\n",
              "          + ' to learn more about interactive tables.';\n",
              "        element.innerHTML = '';\n",
              "        dataTable['output_type'] = 'display_data';\n",
              "        await google.colab.output.renderOutput(dataTable, element);\n",
              "        const docLink = document.createElement('div');\n",
              "        docLink.innerHTML = docLinkHtml;\n",
              "        element.appendChild(docLink);\n",
              "      }\n",
              "    </script>\n",
              "  </div>\n",
              "\n",
              "\n",
              "    <div id=\"df-a1102419-a624-48a9-b6a5-3537dcc8dda9\">\n",
              "      <button class=\"colab-df-quickchart\" onclick=\"quickchart('df-a1102419-a624-48a9-b6a5-3537dcc8dda9')\"\n",
              "                title=\"Suggest charts\"\n",
              "                style=\"display:none;\">\n",
              "\n",
              "<svg xmlns=\"http://www.w3.org/2000/svg\" height=\"24px\"viewBox=\"0 0 24 24\"\n",
              "     width=\"24px\">\n",
              "    <g>\n",
              "        <path d=\"M19 3H5c-1.1 0-2 .9-2 2v14c0 1.1.9 2 2 2h14c1.1 0 2-.9 2-2V5c0-1.1-.9-2-2-2zM9 17H7v-7h2v7zm4 0h-2V7h2v10zm4 0h-2v-4h2v4z\"/>\n",
              "    </g>\n",
              "</svg>\n",
              "      </button>\n",
              "\n",
              "<style>\n",
              "  .colab-df-quickchart {\n",
              "      --bg-color: #E8F0FE;\n",
              "      --fill-color: #1967D2;\n",
              "      --hover-bg-color: #E2EBFA;\n",
              "      --hover-fill-color: #174EA6;\n",
              "      --disabled-fill-color: #AAA;\n",
              "      --disabled-bg-color: #DDD;\n",
              "  }\n",
              "\n",
              "  [theme=dark] .colab-df-quickchart {\n",
              "      --bg-color: #3B4455;\n",
              "      --fill-color: #D2E3FC;\n",
              "      --hover-bg-color: #434B5C;\n",
              "      --hover-fill-color: #FFFFFF;\n",
              "      --disabled-bg-color: #3B4455;\n",
              "      --disabled-fill-color: #666;\n",
              "  }\n",
              "\n",
              "  .colab-df-quickchart {\n",
              "    background-color: var(--bg-color);\n",
              "    border: none;\n",
              "    border-radius: 50%;\n",
              "    cursor: pointer;\n",
              "    display: none;\n",
              "    fill: var(--fill-color);\n",
              "    height: 32px;\n",
              "    padding: 0;\n",
              "    width: 32px;\n",
              "  }\n",
              "\n",
              "  .colab-df-quickchart:hover {\n",
              "    background-color: var(--hover-bg-color);\n",
              "    box-shadow: 0 1px 2px rgba(60, 64, 67, 0.3), 0 1px 3px 1px rgba(60, 64, 67, 0.15);\n",
              "    fill: var(--button-hover-fill-color);\n",
              "  }\n",
              "\n",
              "  .colab-df-quickchart-complete:disabled,\n",
              "  .colab-df-quickchart-complete:disabled:hover {\n",
              "    background-color: var(--disabled-bg-color);\n",
              "    fill: var(--disabled-fill-color);\n",
              "    box-shadow: none;\n",
              "  }\n",
              "\n",
              "  .colab-df-spinner {\n",
              "    border: 2px solid var(--fill-color);\n",
              "    border-color: transparent;\n",
              "    border-bottom-color: var(--fill-color);\n",
              "    animation:\n",
              "      spin 1s steps(1) infinite;\n",
              "  }\n",
              "\n",
              "  @keyframes spin {\n",
              "    0% {\n",
              "      border-color: transparent;\n",
              "      border-bottom-color: var(--fill-color);\n",
              "      border-left-color: var(--fill-color);\n",
              "    }\n",
              "    20% {\n",
              "      border-color: transparent;\n",
              "      border-left-color: var(--fill-color);\n",
              "      border-top-color: var(--fill-color);\n",
              "    }\n",
              "    30% {\n",
              "      border-color: transparent;\n",
              "      border-left-color: var(--fill-color);\n",
              "      border-top-color: var(--fill-color);\n",
              "      border-right-color: var(--fill-color);\n",
              "    }\n",
              "    40% {\n",
              "      border-color: transparent;\n",
              "      border-right-color: var(--fill-color);\n",
              "      border-top-color: var(--fill-color);\n",
              "    }\n",
              "    60% {\n",
              "      border-color: transparent;\n",
              "      border-right-color: var(--fill-color);\n",
              "    }\n",
              "    80% {\n",
              "      border-color: transparent;\n",
              "      border-right-color: var(--fill-color);\n",
              "      border-bottom-color: var(--fill-color);\n",
              "    }\n",
              "    90% {\n",
              "      border-color: transparent;\n",
              "      border-bottom-color: var(--fill-color);\n",
              "    }\n",
              "  }\n",
              "</style>\n",
              "\n",
              "      <script>\n",
              "        async function quickchart(key) {\n",
              "          const quickchartButtonEl =\n",
              "            document.querySelector('#' + key + ' button');\n",
              "          quickchartButtonEl.disabled = true;  // To prevent multiple clicks.\n",
              "          quickchartButtonEl.classList.add('colab-df-spinner');\n",
              "          try {\n",
              "            const charts = await google.colab.kernel.invokeFunction(\n",
              "                'suggestCharts', [key], {});\n",
              "          } catch (error) {\n",
              "            console.error('Error during call to suggestCharts:', error);\n",
              "          }\n",
              "          quickchartButtonEl.classList.remove('colab-df-spinner');\n",
              "          quickchartButtonEl.classList.add('colab-df-quickchart-complete');\n",
              "        }\n",
              "        (() => {\n",
              "          let quickchartButtonEl =\n",
              "            document.querySelector('#df-a1102419-a624-48a9-b6a5-3537dcc8dda9 button');\n",
              "          quickchartButtonEl.style.display =\n",
              "            google.colab.kernel.accessAllowed ? 'block' : 'none';\n",
              "        })();\n",
              "      </script>\n",
              "    </div>\n",
              "\n",
              "    </div>\n",
              "  </div>\n"
            ],
            "application/vnd.google.colaboratory.intrinsic+json": {
              "type": "dataframe",
              "variable_name": "df_tesla_stocks",
              "summary": "{\n  \"name\": \"df_tesla_stocks\",\n  \"rows\": 2416,\n  \"fields\": [\n    {\n      \"column\": \"Date\",\n      \"properties\": {\n        \"dtype\": \"object\",\n        \"num_unique_values\": 2416,\n        \"samples\": [\n          \"2012-02-13\",\n          \"2011-04-12\",\n          \"2017-02-15\"\n        ],\n        \"semantic_type\": \"\",\n        \"description\": \"\"\n      }\n    },\n    {\n      \"column\": \"Open\",\n      \"properties\": {\n        \"dtype\": \"number\",\n        \"std\": 118.74016318157177,\n        \"min\": 16.139999,\n        \"max\": 673.690002,\n        \"num_unique_values\": 2132,\n        \"samples\": [\n          28.34,\n          258.75,\n          300.369995\n        ],\n        \"semantic_type\": \"\",\n        \"description\": \"\"\n      }\n    },\n    {\n      \"column\": \"High\",\n      \"properties\": {\n        \"dtype\": \"number\",\n        \"std\": 120.89232871387055,\n        \"min\": 16.629999,\n        \"max\": 786.140015,\n        \"num_unique_values\": 2128,\n        \"samples\": [\n          29.26,\n          222.899994,\n          337.75\n        ],\n        \"semantic_type\": \"\",\n        \"description\": \"\"\n      }\n    },\n    {\n      \"column\": \"Low\",\n      \"properties\": {\n        \"dtype\": \"number\",\n        \"std\": 116.85759099326667,\n        \"min\": 14.98,\n        \"max\": 673.52002,\n        \"num_unique_values\": 2136,\n        \"samples\": [\n          306.799988,\n          27.540001,\n          29.41\n        ],\n        \"semantic_type\": \"\",\n        \"description\": \"\"\n      }\n    },\n    {\n      \"column\": \"Close\",\n      \"properties\": {\n        \"dtype\": \"number\",\n        \"std\": 119.13601997634157,\n        \"min\": 15.8,\n        \"max\": 780.0,\n        \"num_unique_values\": 2225,\n        \"samples\": [\n          29.5,\n          29.66,\n          344.529999\n        ],\n        \"semantic_type\": \"\",\n        \"description\": \"\"\n      }\n    },\n    {\n      \"column\": \"Adj Close\",\n      \"properties\": {\n        \"dtype\": \"number\",\n        \"std\": 119.13601997634157,\n        \"min\": 15.8,\n        \"max\": 780.0,\n        \"num_unique_values\": 2225,\n        \"samples\": [\n          29.5,\n          29.66,\n          344.529999\n        ],\n        \"semantic_type\": \"\",\n        \"description\": \"\"\n      }\n    },\n    {\n      \"column\": \"Volume\",\n      \"properties\": {\n        \"dtype\": \"number\",\n        \"std\": 4987809,\n        \"min\": 118500,\n        \"max\": 47065000,\n        \"num_unique_values\": 2391,\n        \"samples\": [\n          7203200,\n          2810300,\n          6725100\n        ],\n        \"semantic_type\": \"\",\n        \"description\": \"\"\n      }\n    }\n  ]\n}"
            }
          },
          "metadata": {},
          "execution_count": 56
        }
      ]
    },
    {
      "cell_type": "code",
      "source": [
        "def df_check(dataframe):\n",
        "  print(f\"shape of df:{dataframe.shape}\\n\")\n",
        "  print(f\"dtypes of df:{dataframe.dtypes}\\n\")#return the data type\n",
        "  print(f\"head of df:{dataframe.head}\\n\")\n",
        "  print(f\"tail of df:{dataframe.tail}\\n\")\n",
        "  print(f\"null of df:{dataframe.isnull().sum()}\\n\")\n",
        "  print(f\"info of df:{dataframe.info}\\n\")\n",
        "  print(f\"describe of df:{dataframe.describe().T}\\n\")\n",
        "\n",
        "df_check(df_tesla_stocks)"
      ],
      "metadata": {
        "colab": {
          "base_uri": "https://localhost:8080/"
        },
        "id": "FD0y661etkh4",
        "outputId": "8e006fa5-0572-4779-bdc7-967948dc7e00"
      },
      "execution_count": 57,
      "outputs": [
        {
          "output_type": "stream",
          "name": "stdout",
          "text": [
            "shape of df:(2416, 7)\n",
            "\n",
            "dtypes of df:Date          object\n",
            "Open         float64\n",
            "High         float64\n",
            "Low          float64\n",
            "Close        float64\n",
            "Adj Close    float64\n",
            "Volume         int64\n",
            "dtype: object\n",
            "\n",
            "head of df:<bound method NDFrame.head of             Date        Open        High         Low       Close   Adj Close  \\\n",
            "0     2010-06-29   19.000000   25.000000   17.540001   23.889999   23.889999   \n",
            "1     2010-06-30   25.790001   30.420000   23.299999   23.830000   23.830000   \n",
            "2     2010-07-01   25.000000   25.920000   20.270000   21.959999   21.959999   \n",
            "3     2010-07-02   23.000000   23.100000   18.709999   19.200001   19.200001   \n",
            "4     2010-07-06   20.000000   20.000000   15.830000   16.110001   16.110001   \n",
            "...          ...         ...         ...         ...         ...         ...   \n",
            "2411  2020-01-28  568.489990  576.809998  558.080017  566.900024  566.900024   \n",
            "2412  2020-01-29  575.690002  589.799988  567.429993  580.989990  580.989990   \n",
            "2413  2020-01-30  632.419983  650.880005  618.000000  640.809998  640.809998   \n",
            "2414  2020-01-31  640.000000  653.000000  632.520020  650.570007  650.570007   \n",
            "2415  2020-02-03  673.690002  786.140015  673.520020  780.000000  780.000000   \n",
            "\n",
            "        Volume  \n",
            "0     18766300  \n",
            "1     17187100  \n",
            "2      8218800  \n",
            "3      5139800  \n",
            "4      6866900  \n",
            "...        ...  \n",
            "2411  11788500  \n",
            "2412  17801500  \n",
            "2413  29005700  \n",
            "2414  15719300  \n",
            "2415  47065000  \n",
            "\n",
            "[2416 rows x 7 columns]>\n",
            "\n",
            "tail of df:<bound method NDFrame.tail of             Date        Open        High         Low       Close   Adj Close  \\\n",
            "0     2010-06-29   19.000000   25.000000   17.540001   23.889999   23.889999   \n",
            "1     2010-06-30   25.790001   30.420000   23.299999   23.830000   23.830000   \n",
            "2     2010-07-01   25.000000   25.920000   20.270000   21.959999   21.959999   \n",
            "3     2010-07-02   23.000000   23.100000   18.709999   19.200001   19.200001   \n",
            "4     2010-07-06   20.000000   20.000000   15.830000   16.110001   16.110001   \n",
            "...          ...         ...         ...         ...         ...         ...   \n",
            "2411  2020-01-28  568.489990  576.809998  558.080017  566.900024  566.900024   \n",
            "2412  2020-01-29  575.690002  589.799988  567.429993  580.989990  580.989990   \n",
            "2413  2020-01-30  632.419983  650.880005  618.000000  640.809998  640.809998   \n",
            "2414  2020-01-31  640.000000  653.000000  632.520020  650.570007  650.570007   \n",
            "2415  2020-02-03  673.690002  786.140015  673.520020  780.000000  780.000000   \n",
            "\n",
            "        Volume  \n",
            "0     18766300  \n",
            "1     17187100  \n",
            "2      8218800  \n",
            "3      5139800  \n",
            "4      6866900  \n",
            "...        ...  \n",
            "2411  11788500  \n",
            "2412  17801500  \n",
            "2413  29005700  \n",
            "2414  15719300  \n",
            "2415  47065000  \n",
            "\n",
            "[2416 rows x 7 columns]>\n",
            "\n",
            "null of df:Date         0\n",
            "Open         0\n",
            "High         0\n",
            "Low          0\n",
            "Close        0\n",
            "Adj Close    0\n",
            "Volume       0\n",
            "dtype: int64\n",
            "\n",
            "info of df:<bound method DataFrame.info of             Date        Open        High         Low       Close   Adj Close  \\\n",
            "0     2010-06-29   19.000000   25.000000   17.540001   23.889999   23.889999   \n",
            "1     2010-06-30   25.790001   30.420000   23.299999   23.830000   23.830000   \n",
            "2     2010-07-01   25.000000   25.920000   20.270000   21.959999   21.959999   \n",
            "3     2010-07-02   23.000000   23.100000   18.709999   19.200001   19.200001   \n",
            "4     2010-07-06   20.000000   20.000000   15.830000   16.110001   16.110001   \n",
            "...          ...         ...         ...         ...         ...         ...   \n",
            "2411  2020-01-28  568.489990  576.809998  558.080017  566.900024  566.900024   \n",
            "2412  2020-01-29  575.690002  589.799988  567.429993  580.989990  580.989990   \n",
            "2413  2020-01-30  632.419983  650.880005  618.000000  640.809998  640.809998   \n",
            "2414  2020-01-31  640.000000  653.000000  632.520020  650.570007  650.570007   \n",
            "2415  2020-02-03  673.690002  786.140015  673.520020  780.000000  780.000000   \n",
            "\n",
            "        Volume  \n",
            "0     18766300  \n",
            "1     17187100  \n",
            "2      8218800  \n",
            "3      5139800  \n",
            "4      6866900  \n",
            "...        ...  \n",
            "2411  11788500  \n",
            "2412  17801500  \n",
            "2413  29005700  \n",
            "2414  15719300  \n",
            "2415  47065000  \n",
            "\n",
            "[2416 rows x 7 columns]>\n",
            "\n",
            "describe of df:            count          mean           std            min           25%  \\\n",
            "Open       2416.0  1.862711e+02  1.187402e+02      16.139999  3.434250e+01   \n",
            "High       2416.0  1.895782e+02  1.208923e+02      16.629999  3.489750e+01   \n",
            "Low        2416.0  1.829166e+02  1.168576e+02      14.980000  3.358750e+01   \n",
            "Close      2416.0  1.864037e+02  1.191360e+02      15.800000  3.440000e+01   \n",
            "Adj Close  2416.0  1.864037e+02  1.191360e+02      15.800000  3.440000e+01   \n",
            "Volume     2416.0  5.572722e+06  4.987809e+06  118500.000000  1.899275e+06   \n",
            "\n",
            "                    50%           75%           max  \n",
            "Open       2.130350e+02  2.664500e+02  6.736900e+02  \n",
            "High       2.167450e+02  2.709275e+02  7.861400e+02  \n",
            "Low        2.088700e+02  2.621025e+02  6.735200e+02  \n",
            "Close      2.129600e+02  2.667750e+02  7.800000e+02  \n",
            "Adj Close  2.129600e+02  2.667750e+02  7.800000e+02  \n",
            "Volume     4.578400e+06  7.361150e+06  4.706500e+07  \n",
            "\n"
          ]
        }
      ]
    },
    {
      "cell_type": "markdown",
      "source": [
        "###I saw that the data type of the \"Date\" column is an object.We need to convert this column to datetime format for proper time series analysis."
      ],
      "metadata": {
        "id": "FTgZhioLurBi"
      }
    },
    {
      "cell_type": "code",
      "source": [
        "df_tesla_stocks[\"Date\"]=pd.to_datetime(df_tesla_stocks[\"Date\"])\n",
        "print(df_tesla_stocks.dtypes)"
      ],
      "metadata": {
        "colab": {
          "base_uri": "https://localhost:8080/"
        },
        "id": "Ht8C4xYauXWL",
        "outputId": "47f48d16-4734-4ca6-a34d-d52371974de4"
      },
      "execution_count": 58,
      "outputs": [
        {
          "output_type": "stream",
          "name": "stdout",
          "text": [
            "Date         datetime64[ns]\n",
            "Open                float64\n",
            "High                float64\n",
            "Low                 float64\n",
            "Close               float64\n",
            "Adj Close           float64\n",
            "Volume                int64\n",
            "dtype: object\n"
          ]
        }
      ]
    },
    {
      "cell_type": "markdown",
      "source": [
        "###We are only retrieving the close prices and the corresponding dates."
      ],
      "metadata": {
        "id": "4G9QHHyWvw9K"
      }
    },
    {
      "cell_type": "code",
      "source": [
        "df_date_price=df_tesla_stocks[[\"Date\",\"Close\"]]\n",
        "df_date_price.head()\n",
        "\n",
        "def _plot_series(series, series_name, series_index=0):\n",
        "  palette = list(sns.palettes.mpl_palette('Dark2'))\n",
        "  xs = series['Date']\n",
        "  ys = series['Close']\n",
        "\n",
        "  plt.plot(xs, ys, label=series_name, color=palette[series_index % len(palette)])\n",
        "\n",
        "fig, ax = plt.subplots(figsize=(10, 5.2), layout='constrained')\n",
        "df_sorted = df_date_price.sort_values('Date', ascending=True)\n",
        "_plot_series(df_sorted, '')\n",
        "sns.despine(fig=fig, ax=ax)\n",
        "plt.xlabel('Date')\n",
        "_ = plt.ylabel('Close')"
      ],
      "metadata": {
        "colab": {
          "base_uri": "https://localhost:8080/",
          "height": 416
        },
        "id": "me7tHUJjvXXW",
        "outputId": "2c49809a-6a9b-4ef6-ce6e-4115eb8f1a94"
      },
      "execution_count": 59,
      "outputs": [
        {
          "output_type": "display_data",
          "data": {
            "text/plain": [
              "<Figure size 1000x520 with 1 Axes>"
            ],
            "image/png": "[encoded data removed]"
          },
          "metadata": {}
        }
      ]
    },
    {
      "cell_type": "code",
      "source": [
        "#min max prices\n",
        "min_price=df_date_price[\"Close\"].min()\n",
        "min_price_date=df_date_price[\"Date\"].min()\n",
        "max_price=df_date_price[\"Close\"].max()\n",
        "max_price_date=df_date_price[\"Date\"].max()\n",
        "print(f\"min price:{min_price}\\nmax price:{max_price}\")\n",
        "print(f\"min price date:{min_price_date}\\nmax price date:{max_price_date}\")"
      ],
      "metadata": {
        "colab": {
          "base_uri": "https://localhost:8080/"
        },
        "id": "m2kIYoenwjRy",
        "outputId": "90505653-d58f-42be-9139-9eab9ece24cc"
      },
      "execution_count": 60,
      "outputs": [
        {
          "output_type": "stream",
          "name": "stdout",
          "text": [
            "min price:15.8\n",
            "max price:780.0\n",
            "min price date:2010-06-29 00:00:00\n",
            "max price date:2020-02-03 00:00:00\n"
          ]
        }
      ]
    },
    {
      "cell_type": "code",
      "source": [
        "df_date_price.index=df_date_price[\"Date\"]\n",
        "df_date_price.drop(\"Date\",axis=1,inplace=True)\n",
        "print(df_date_price)"
      ],
      "metadata": {
        "colab": {
          "base_uri": "https://localhost:8080/"
        },
        "id": "5bPD4yQ0xFLi",
        "outputId": "4496e5cf-9f91-4067-e24c-50d7f7af3c88"
      },
      "execution_count": 61,
      "outputs": [
        {
          "output_type": "stream",
          "name": "stdout",
          "text": [
            "                 Close\n",
            "Date                  \n",
            "2010-06-29   23.889999\n",
            "2010-06-30   23.830000\n",
            "2010-07-01   21.959999\n",
            "2010-07-02   19.200001\n",
            "2010-07-06   16.110001\n",
            "...                ...\n",
            "2020-01-28  566.900024\n",
            "2020-01-29  580.989990\n",
            "2020-01-30  640.809998\n",
            "2020-01-31  650.570007\n",
            "2020-02-03  780.000000\n",
            "\n",
            "[2416 rows x 1 columns]\n"
          ]
        }
      ]
    },
    {
      "cell_type": "code",
      "source": [
        "df_date_price=df_date_price.values#pandas to numpy"
      ],
      "metadata": {
        "id": "u_8IMUjAxiLr"
      },
      "execution_count": 62,
      "outputs": []
    },
    {
      "cell_type": "code",
      "source": [
        "print(df_date_price[0:5])#you can't use df_date_prices.head()"
      ],
      "metadata": {
        "colab": {
          "base_uri": "https://localhost:8080/"
        },
        "id": "1cI97D36x_LX",
        "outputId": "3e0338c3-a0d0-4762-8f35-fd2b70120376"
      },
      "execution_count": 63,
      "outputs": [
        {
          "output_type": "stream",
          "name": "stdout",
          "text": [
            "[[23.889999]\n",
            " [23.83    ]\n",
            " [21.959999]\n",
            " [19.200001]\n",
            " [16.110001]]\n"
          ]
        }
      ]
    },
    {
      "cell_type": "code",
      "source": [
        "df_date_price=df_date_price.astype(\"float32\")"
      ],
      "metadata": {
        "id": "2mjpgPGkyR00"
      },
      "execution_count": 64,
      "outputs": []
    },
    {
      "cell_type": "markdown",
      "source": [
        "###We can't use Scikit-learn's train_test_split function because it selects samples randomly, which is not suitable for time series data."
      ],
      "metadata": {
        "id": "s3B7TgUZycaU"
      }
    },
    {
      "cell_type": "code",
      "source": [
        "def split_data_for_lstm(dataframe, test_size):\n",
        "    pos = int(len(dataframe) * (1 - test_size))\n",
        "    train_data = dataframe[:pos]\n",
        "    test_data = dataframe[pos:]\n",
        "    return train_data, test_data, pos\n",
        "\n",
        "train_dataset,test_dataset,pos=split_data_for_lstm(df_date_price,0.20)\n"
      ],
      "metadata": {
        "id": "p_uQl8Wnyw9g"
      },
      "execution_count": 65,
      "outputs": []
    },
    {
      "cell_type": "code",
      "source": [
        "MinMacSC=MinMaxScaler(feature_range=(0,1))\n",
        "train_dataset=MinMacSC.fit_transform(train_dataset)\n",
        "test_dataset=MinMacSC.transform(test_dataset)\n",
        "\n",
        "print(train_dataset)"
      ],
      "metadata": {
        "colab": {
          "base_uri": "https://localhost:8080/"
        },
        "id": "GKZ495Je0bC5",
        "outputId": "c495641b-98a6-4030-d13a-540c7d11f90a"
      },
      "execution_count": 66,
      "outputs": [
        {
          "output_type": "stream",
          "name": "stdout",
          "text": [
            "[[0.02191224]\n",
            " [0.02174973]\n",
            " [0.01668472]\n",
            " ...\n",
            " [0.90788186]\n",
            " [0.88640296]\n",
            " [0.85354817]]\n"
          ]
        }
      ]
    },
    {
      "cell_type": "markdown",
      "source": [
        "##Create Features to Train the LSTM"
      ],
      "metadata": {
        "id": "YXmXzSEq1QeG"
      }
    },
    {
      "cell_type": "code",
      "source": [
        "def create_features(dataframe,timestep):\n",
        "  x_train=[]\n",
        "  y_train=[]\n",
        "  for i in range(timestep,len(dataframe)):\n",
        "    x_train.append(dataframe[i-timestep:i,0])\n",
        "    y_train.append(dataframe[i,0])\n",
        "  return np.array(x_train),np.array(y_train)\n",
        "\n",
        "timestep=20\n",
        "x_train,y_train=create_features(train_dataset,timestep)\n",
        "x_test,y_test=create_features(test_dataset,timestep)\n"
      ],
      "metadata": {
        "id": "T0Z8EPYU1Lko"
      },
      "execution_count": 67,
      "outputs": []
    },
    {
      "cell_type": "markdown",
      "source": [
        "###We need to reshape these arrays into 3D format.\n",
        "\n",
        "    (shape: (samples, timesteps, features))\n",
        "            (x[0]   , x[1]       ,1      )\n",
        "\n",
        "X_train.shape[0] - This is the number of samples. It corresponds to how many examples (rows/windows) you have created.\n",
        "\n",
        "X_train.shape[1] - This is the number of time steps in each sample.\n",
        "    "
      ],
      "metadata": {
        "id": "jnJ5XOPe2ckI"
      }
    },
    {
      "cell_type": "code",
      "source": [
        "x_train=x_train.reshape(x_train.shape[0],x_train.shape[1],1)\n",
        "x_test=x_test.reshape(x_test.shape[0],x_test.shape[1],1)\n",
        "\n",
        "\"\"\"\n",
        "for 2D\n",
        "x_train=x_train.reshape(-1,1)\n",
        "y_train=y_train.reshape(-1,1)\n",
        "\n",
        "\"\"\""
      ],
      "metadata": {
        "colab": {
          "base_uri": "https://localhost:8080/",
          "height": 35
        },
        "id": "ymwN9WIt2cDp",
        "outputId": "c719e2fc-6780-42f4-b223-c7adddcd9f03"
      },
      "execution_count": 68,
      "outputs": [
        {
          "output_type": "execute_result",
          "data": {
            "text/plain": [
              "'\\nfor 2D\\nx_train=x_train.reshape(-1,1)\\ny_train=y_train.reshape(-1,1)\\n\\n'"
            ],
            "application/vnd.google.colaboratory.intrinsic+json": {
              "type": "string"
            }
          },
          "metadata": {},
          "execution_count": 68
        }
      ]
    },
    {
      "cell_type": "markdown",
      "source": [
        "#Modeling"
      ],
      "metadata": {
        "id": "aKUJV82v36fb"
      }
    },
    {
      "cell_type": "code",
      "source": [
        "modal=Sequential()\n",
        "modal.add(LSTM(units=50,activation=\"relu\",input_shape=(x_train.shape[1],1)))\n",
        "modal.add(Dropout(0.2))#Prevents overfitting by randomly dropping 20% of neurons\n",
        "modal.add(Dense(units=1))#Fully connected layer with 1 output\n"
      ],
      "metadata": {
        "id": "jzZVjD3P4Fh7"
      },
      "execution_count": 69,
      "outputs": []
    },
    {
      "cell_type": "code",
      "source": [
        "modal.summary()"
      ],
      "metadata": {
        "colab": {
          "base_uri": "https://localhost:8080/",
          "height": 238
        },
        "id": "TSqS9I24AQok",
        "outputId": "205a8dfe-fad6-4448-b376-71085c268ffe"
      },
      "execution_count": 70,
      "outputs": [
        {
          "output_type": "display_data",
          "data": {
            "text/plain": [
              "\u001b[1mModel: \"sequential_5\"\u001b[0m\n"
            ],
            "text/html": [
              "<pre style=\"white-space:pre;overflow-x:auto;line-height:normal;font-family:Menlo,'DejaVu Sans Mono',consolas,'Courier New',monospace\"><span style=\"font-weight: bold\">Model: \"sequential_5\"</span>\n",
              "</pre>\n"
            ]
          },
          "metadata": {}
        },
        {
          "output_type": "display_data",
          "data": {
            "text/plain": [
              "┏━━━━━━━━━━━━━━━━━━━━━━━━━━━━━━━━━┳━━━━━━━━━━━━━━━━━━━━━━━━┳━━━━━━━━━━━━━━━┓\n",
              "┃\u001b[1m \u001b[0m\u001b[1mLayer (type)                   \u001b[0m\u001b[1m \u001b[0m┃\u001b[1m \u001b[0m\u001b[1mOutput Shape          \u001b[0m\u001b[1m \u001b[0m┃\u001b[1m \u001b[0m\u001b[1m      Param #\u001b[0m\u001b[1m \u001b[0m┃\n",
              "┡━━━━━━━━━━━━━━━━━━━━━━━━━━━━━━━━━╇━━━━━━━━━━━━━━━━━━━━━━━━╇━━━━━━━━━━━━━━━┩\n",
              "│ lstm_5 (\u001b[38;5;33mLSTM\u001b[0m)                   │ (\u001b[38;5;45mNone\u001b[0m, \u001b[38;5;34m50\u001b[0m)             │        \u001b[38;5;34m10,400\u001b[0m │\n",
              "├─────────────────────────────────┼────────────────────────┼───────────────┤\n",
              "│ dropout_5 (\u001b[38;5;33mDropout\u001b[0m)             │ (\u001b[38;5;45mNone\u001b[0m, \u001b[38;5;34m50\u001b[0m)             │             \u001b[38;5;34m0\u001b[0m │\n",
              "├─────────────────────────────────┼────────────────────────┼───────────────┤\n",
              "│ dense_5 (\u001b[38;5;33mDense\u001b[0m)                 │ (\u001b[38;5;45mNone\u001b[0m, \u001b[38;5;34m1\u001b[0m)              │            \u001b[38;5;34m51\u001b[0m │\n",
              "└─────────────────────────────────┴────────────────────────┴───────────────┘\n"
            ],
            "text/html": [
              "<pre style=\"white-space:pre;overflow-x:auto;line-height:normal;font-family:Menlo,'DejaVu Sans Mono',consolas,'Courier New',monospace\">┏━━━━━━━━━━━━━━━━━━━━━━━━━━━━━━━━━┳━━━━━━━━━━━━━━━━━━━━━━━━┳━━━━━━━━━━━━━━━┓\n",
              "┃<span style=\"font-weight: bold\"> Layer (type)                    </span>┃<span style=\"font-weight: bold\"> Output Shape           </span>┃<span style=\"font-weight: bold\">       Param # </span>┃\n",
              "┡━━━━━━━━━━━━━━━━━━━━━━━━━━━━━━━━━╇━━━━━━━━━━━━━━━━━━━━━━━━╇━━━━━━━━━━━━━━━┩\n",
              "│ lstm_5 (<span style=\"color: #0087ff; text-decoration-color: #0087ff\">LSTM</span>)                   │ (<span style=\"color: #00d7ff; text-decoration-color: #00d7ff\">None</span>, <span style=\"color: #00af00; text-decoration-color: #00af00\">50</span>)             │        <span style=\"color: #00af00; text-decoration-color: #00af00\">10,400</span> │\n",
              "├─────────────────────────────────┼────────────────────────┼───────────────┤\n",
              "│ dropout_5 (<span style=\"color: #0087ff; text-decoration-color: #0087ff\">Dropout</span>)             │ (<span style=\"color: #00d7ff; text-decoration-color: #00d7ff\">None</span>, <span style=\"color: #00af00; text-decoration-color: #00af00\">50</span>)             │             <span style=\"color: #00af00; text-decoration-color: #00af00\">0</span> │\n",
              "├─────────────────────────────────┼────────────────────────┼───────────────┤\n",
              "│ dense_5 (<span style=\"color: #0087ff; text-decoration-color: #0087ff\">Dense</span>)                 │ (<span style=\"color: #00d7ff; text-decoration-color: #00d7ff\">None</span>, <span style=\"color: #00af00; text-decoration-color: #00af00\">1</span>)              │            <span style=\"color: #00af00; text-decoration-color: #00af00\">51</span> │\n",
              "└─────────────────────────────────┴────────────────────────┴───────────────┘\n",
              "</pre>\n"
            ]
          },
          "metadata": {}
        },
        {
          "output_type": "display_data",
          "data": {
            "text/plain": [
              "\u001b[1m Total params: \u001b[0m\u001b[38;5;34m10,451\u001b[0m (40.82 KB)\n"
            ],
            "text/html": [
              "<pre style=\"white-space:pre;overflow-x:auto;line-height:normal;font-family:Menlo,'DejaVu Sans Mono',consolas,'Courier New',monospace\"><span style=\"font-weight: bold\"> Total params: </span><span style=\"color: #00af00; text-decoration-color: #00af00\">10,451</span> (40.82 KB)\n",
              "</pre>\n"
            ]
          },
          "metadata": {}
        },
        {
          "output_type": "display_data",
          "data": {
            "text/plain": [
              "\u001b[1m Trainable params: \u001b[0m\u001b[38;5;34m10,451\u001b[0m (40.82 KB)\n"
            ],
            "text/html": [
              "<pre style=\"white-space:pre;overflow-x:auto;line-height:normal;font-family:Menlo,'DejaVu Sans Mono',consolas,'Courier New',monospace\"><span style=\"font-weight: bold\"> Trainable params: </span><span style=\"color: #00af00; text-decoration-color: #00af00\">10,451</span> (40.82 KB)\n",
              "</pre>\n"
            ]
          },
          "metadata": {}
        },
        {
          "output_type": "display_data",
          "data": {
            "text/plain": [
              "\u001b[1m Non-trainable params: \u001b[0m\u001b[38;5;34m0\u001b[0m (0.00 B)\n"
            ],
            "text/html": [
              "<pre style=\"white-space:pre;overflow-x:auto;line-height:normal;font-family:Menlo,'DejaVu Sans Mono',consolas,'Courier New',monospace\"><span style=\"font-weight: bold\"> Non-trainable params: </span><span style=\"color: #00af00; text-decoration-color: #00af00\">0</span> (0.00 B)\n",
              "</pre>\n"
            ]
          },
          "metadata": {}
        }
      ]
    },
    {
      "cell_type": "code",
      "source": [
        "modal.compile(loss='mean_squared_error',optimizer='adam')"
      ],
      "metadata": {
        "id": "bJMz3LNtASh_"
      },
      "execution_count": 71,
      "outputs": []
    },
    {
      "cell_type": "code",
      "source": [
        "callbacks= [EarlyStopping(monitor='val_loss',patience=3,verbose=1,mode=\"min\"),\n",
        "              #Stops training if validation loss doesn't improve for 3 consecutive epochs\n",
        "            ModelCheckpoint(filepath='best_model.h5',monitor='val_loss',\n",
        "                            save_best_only=True,verbose=1,save_weights_only=False)]\n",
        "              #Saves the model with the lowest validation loss"
      ],
      "metadata": {
        "id": "BAh7s2UxAxY8"
      },
      "execution_count": 72,
      "outputs": []
    },
    {
      "cell_type": "code",
      "source": [
        "history=modal.fit(x_train,y_train,epochs=100,batch_size=20,validation_data=(x_test,y_test),callbacks=callbacks,shuffle=False)\n",
        "#Trains the model for 100 epochs using batch size of 20, with validation, and no shuffling"
      ],
      "metadata": {
        "colab": {
          "base_uri": "https://localhost:8080/"
        },
        "id": "NbtmxNFnBRtw",
        "outputId": "27f6d145-8264-4803-d170-b894e51d4600"
      },
      "execution_count": 73,
      "outputs": [
        {
          "output_type": "stream",
          "name": "stdout",
          "text": [
            "Epoch 1/100\n",
            "\u001b[1m94/96\u001b[0m \u001b[32m━━━━━━━━━━━━━━━━━━━\u001b[0m\u001b[37m━\u001b[0m \u001b[1m0s\u001b[0m 10ms/step - loss: 0.0067\n",
            "Epoch 1: val_loss improved from inf to 0.00586, saving model to best_model.h5\n"
          ]
        },
        {
          "output_type": "stream",
          "name": "stderr",
          "text": [
            "WARNING:absl:You are saving your model as an HDF5 file via `model.save()` or `keras.saving.save_model(model)`. This file format is considered legacy. We recommend using instead the native Keras format, e.g. `model.save('my_model.keras')` or `keras.saving.save_model(model, 'my_model.keras')`. \n"
          ]
        },
        {
          "output_type": "stream",
          "name": "stdout",
          "text": [
            "\b\b\b\b\b\b\b\b\b\b\b\b\b\b\b\b\b\b\b\b\b\b\b\b\b\b\b\b\b\b\b\b\b\b\b\b\b\b\b\b\b\b\b\b\b\b\b\b\b\b\b\b\b\b\r\u001b[1m96/96\u001b[0m \u001b[32m━━━━━━━━━━━━━━━━━━━━\u001b[0m\u001b[37m\u001b[0m \u001b[1m3s\u001b[0m 15ms/step - loss: 0.0068 - val_loss: 0.0059\n",
            "Epoch 2/100\n",
            "\u001b[1m94/96\u001b[0m \u001b[32m━━━━━━━━━━━━━━━━━━━\u001b[0m\u001b[37m━\u001b[0m \u001b[1m0s\u001b[0m 14ms/step - loss: 0.0191\n",
            "Epoch 2: val_loss did not improve from 0.00586\n",
            "\u001b[1m96/96\u001b[0m \u001b[32m━━━━━━━━━━━━━━━━━━━━\u001b[0m\u001b[37m\u001b[0m \u001b[1m2s\u001b[0m 16ms/step - loss: 0.0190 - val_loss: 0.0063\n",
            "Epoch 3/100\n",
            "\u001b[1m93/96\u001b[0m \u001b[32m━━━━━━━━━━━━━━━━━━━\u001b[0m\u001b[37m━\u001b[0m \u001b[1m0s\u001b[0m 13ms/step - loss: 0.0146\n",
            "Epoch 3: val_loss improved from 0.00586 to 0.00491, saving model to best_model.h5\n"
          ]
        },
        {
          "output_type": "stream",
          "name": "stderr",
          "text": [
            "WARNING:absl:You are saving your model as an HDF5 file via `model.save()` or `keras.saving.save_model(model)`. This file format is considered legacy. We recommend using instead the native Keras format, e.g. `model.save('my_model.keras')` or `keras.saving.save_model(model, 'my_model.keras')`. \n"
          ]
        },
        {
          "output_type": "stream",
          "name": "stdout",
          "text": [
            "\b\b\b\b\b\b\b\b\b\b\b\b\b\b\b\b\b\b\b\b\b\b\b\b\b\b\b\b\b\b\b\b\b\b\b\b\b\b\b\b\b\b\b\b\b\b\b\b\b\b\b\b\b\b\r\u001b[1m96/96\u001b[0m \u001b[32m━━━━━━━━━━━━━━━━━━━━\u001b[0m\u001b[37m\u001b[0m \u001b[1m2s\u001b[0m 15ms/step - loss: 0.0145 - val_loss: 0.0049\n",
            "Epoch 4/100\n",
            "\u001b[1m93/96\u001b[0m \u001b[32m━━━━━━━━━━━━━━━━━━━\u001b[0m\u001b[37m━\u001b[0m \u001b[1m0s\u001b[0m 10ms/step - loss: 0.0059\n",
            "Epoch 4: val_loss did not improve from 0.00491\n",
            "\u001b[1m96/96\u001b[0m \u001b[32m━━━━━━━━━━━━━━━━━━━━\u001b[0m\u001b[37m\u001b[0m \u001b[1m2s\u001b[0m 11ms/step - loss: 0.0059 - val_loss: 0.0063\n",
            "Epoch 5/100\n",
            "\u001b[1m94/96\u001b[0m \u001b[32m━━━━━━━━━━━━━━━━━━━\u001b[0m\u001b[37m━\u001b[0m \u001b[1m0s\u001b[0m 9ms/step - loss: 0.0038\n",
            "Epoch 5: val_loss did not improve from 0.00491\n",
            "\u001b[1m96/96\u001b[0m \u001b[32m━━━━━━━━━━━━━━━━━━━━\u001b[0m\u001b[37m\u001b[0m \u001b[1m1s\u001b[0m 11ms/step - loss: 0.0039 - val_loss: 0.0070\n",
            "Epoch 6/100\n",
            "\u001b[1m95/96\u001b[0m \u001b[32m━━━━━━━━━━━━━━━━━━━\u001b[0m\u001b[37m━\u001b[0m \u001b[1m0s\u001b[0m 9ms/step - loss: 0.0021\n",
            "Epoch 6: val_loss did not improve from 0.00491\n",
            "\u001b[1m96/96\u001b[0m \u001b[32m━━━━━━━━━━━━━━━━━━━━\u001b[0m\u001b[37m\u001b[0m \u001b[1m1s\u001b[0m 11ms/step - loss: 0.0021 - val_loss: 0.0056\n",
            "Epoch 6: early stopping\n"
          ]
        }
      ]
    },
    {
      "cell_type": "code",
      "source": [
        "plt.figure(figsize=(20, 5))\n",
        "plt.subplot(1, 2, 2)\n",
        "plt.plot(history.history['loss'], label='Training Loss')\n",
        "plt.plot(history.history['val_loss'], label='Validation Loss')\n",
        "plt.legend(loc='upper right')\n",
        "plt.xlabel('Epoch', fontsize=16)\n",
        "plt.ylabel('Loss', fontsize=16)\n",
        "plt.ylim([0, max(plt.ylim())])\n",
        "plt.title('Training and Validation Loss', fontsize=16)\n",
        "plt.show()"
      ],
      "metadata": {
        "colab": {
          "base_uri": "https://localhost:8080/",
          "height": 472
        },
        "id": "MPUgiUhJBdig",
        "outputId": "646ab4a0-7f02-4de8-c9b1-3397cc8504c8"
      },
      "execution_count": 74,
      "outputs": [
        {
          "output_type": "display_data",
          "data": {
            "text/plain": [
              "<Figure size 2000x500 with 1 Axes>"
            ],
            "image/png": "[encoded data removed]"
          },
          "metadata": {}
        }
      ]
    },
    {
      "cell_type": "markdown",
      "source": [
        "###Modal evaluation"
      ],
      "metadata": {
        "id": "vy8IiWIMG7o9"
      }
    },
    {
      "cell_type": "code",
      "source": [
        "loss=modal.evaluate(x_test,y_test,batch_size=20)\n",
        "print(\"loss: %1.f%%\"%(100.0 * loss))"
      ],
      "metadata": {
        "colab": {
          "base_uri": "https://localhost:8080/"
        },
        "id": "SUobgbzeG-PJ",
        "outputId": "df407b03-6957-437b-b921-15ab24476380"
      },
      "execution_count": 75,
      "outputs": [
        {
          "output_type": "stream",
          "name": "stdout",
          "text": [
            "\u001b[1m24/24\u001b[0m \u001b[32m━━━━━━━━━━━━━━━━━━━━\u001b[0m\u001b[37m\u001b[0m \u001b[1m0s\u001b[0m 5ms/step - loss: 0.0032\n",
            "loss: 1%\n"
          ]
        }
      ]
    },
    {
      "cell_type": "code",
      "source": [
        "train_predict=modal.predict(x_train)\n",
        "test_predict=modal.predict(x_test)"
      ],
      "metadata": {
        "colab": {
          "base_uri": "https://localhost:8080/"
        },
        "id": "a88qDPXiHMVU",
        "outputId": "31ee1c1c-61a0-4461-8499-e95cb8ea6fdf"
      },
      "execution_count": 76,
      "outputs": [
        {
          "output_type": "stream",
          "name": "stdout",
          "text": [
            "\u001b[1m60/60\u001b[0m \u001b[32m━━━━━━━━━━━━━━━━━━━━\u001b[0m\u001b[37m\u001b[0m \u001b[1m1s\u001b[0m 9ms/step\n",
            "\u001b[1m15/15\u001b[0m \u001b[32m━━━━━━━━━━━━━━━━━━━━\u001b[0m\u001b[37m\u001b[0m \u001b[1m0s\u001b[0m 7ms/step\n"
          ]
        }
      ]
    },
    {
      "cell_type": "code",
      "source": [
        "train_predict=MinMacSC.inverse_transform(train_predict)\n",
        "test_predict=MinMacSC.inverse_transform(test_predict)"
      ],
      "metadata": {
        "id": "O0NQWUXEHSg9"
      },
      "execution_count": 77,
      "outputs": []
    },
    {
      "cell_type": "code",
      "source": [
        "y_train=MinMacSC.inverse_transform(y_train.reshape(-1,1))\n",
        "y_test=MinMacSC.inverse_transform(y_test.reshape(-1,1))"
      ],
      "metadata": {
        "id": "iwhsXtmcHbNA"
      },
      "execution_count": 78,
      "outputs": []
    },
    {
      "cell_type": "code",
      "source": [
        "train_rmse=np.sqrt(mean_squared_error(y_train,train_predict))\n",
        "test_rmse=np.sqrt(mean_squared_error(y_test,test_predict))\n",
        "print(f\"train rmse:{train_rmse}\\ntest rmse:{test_rmse}\")"
      ],
      "metadata": {
        "colab": {
          "base_uri": "https://localhost:8080/"
        },
        "id": "ycGhs4MdHkpS",
        "outputId": "ae172959-22fc-489d-cc95-bb962cb33c2e"
      },
      "execution_count": 79,
      "outputs": [
        {
          "output_type": "stream",
          "name": "stdout",
          "text": [
            "train rmse:26.459156734439897\n",
            "test rmse:27.703780440286373\n"
          ]
        }
      ]
    },
    {
      "cell_type": "code",
      "source": [
        "result_df = pd.DataFrame(df_date_price, columns=['Real Values'], index=df_tesla_stocks['Date'])\n",
        "train_prediction_df = pd.DataFrame(train_predict, columns=['Predicted'], index=df_tesla_stocks['Date'][timestep:pos])\n",
        "test_prediction_df = pd.DataFrame(test_predict, columns=['Predicted'], index=df_tesla_stocks['Date'][pos+timestep:])\n",
        "\n",
        "plt.figure(figsize=(14, 5))\n",
        "plt.plot(result_df, label='Real Values')\n",
        "plt.plot(train_prediction_df[\"Predicted\"], color='blue', label='Train Predicted')\n",
        "plt.plot(test_prediction_df[\"Predicted\"], color='red', label='Test Predicted')\n",
        "plt.xlabel('Time')\n",
        "plt.ylabel('Stock Values')\n",
        "plt.legend()\n",
        "plt.show()\n"
      ],
      "metadata": {
        "colab": {
          "base_uri": "https://localhost:8080/",
          "height": 311
        },
        "id": "DB609N7hHyQu",
        "outputId": "087ba8ea-4867-48a2-8935-c9644a3879cd"
      },
      "execution_count": 81,
      "outputs": [
        {
          "output_type": "display_data",
          "data": {
            "text/plain": [
              "<Figure size 1400x500 with 1 Axes>"
            ],
            "image/png": "[encoded data removed]"
          },
          "metadata": {}
        }
      ]
    }
  ]
}